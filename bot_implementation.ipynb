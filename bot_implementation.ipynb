{
 "cells": [
  {
   "cell_type": "code",
   "execution_count": 20,
   "metadata": {},
   "outputs": [],
   "source": [
    "import numpy as np\n",
    "import random\n",
    "from PIL import Image\n",
    "from tensorflow.keras.models import load_model"
   ]
  },
  {
   "cell_type": "code",
   "execution_count": 21,
   "metadata": {},
   "outputs": [],
   "source": [
    "bot = load_model('bots/blackjack_bot_5000epochs.h5')"
   ]
  },
  {
   "cell_type": "code",
   "execution_count": 22,
   "metadata": {},
   "outputs": [],
   "source": [
    "# Game logic functions\n",
    "def create_deck():\n",
    "    deck = []\n",
    "    for suit in ['hearts', 'diamonds', 'clubs', 'spades']:\n",
    "        for rank in range(2, 11):\n",
    "            deck.append((str(rank), suit))\n",
    "        for face in ['jack', 'queen', 'king', 'ace']:\n",
    "            deck.append((face, suit))\n",
    "    random.shuffle(deck)\n",
    "    return deck\n",
    "\n",
    "def calculate_score(hand):\n",
    "    value_map = {'2': 2, '3': 3, '4': 5, '5': 5, '6': 6, '7': 7, '8': 8, '9': 9, '10': 10, 'jack': 10, 'queen': 10, 'king': 10, 'ace': 11}\n",
    "    score = sum(value_map[card[0]] for card in hand)\n",
    "    aces = sum(1 for card in hand if card[0] == 'ace')\n",
    "    while score > 21 and aces:\n",
    "        score -= 10\n",
    "        aces -= 1\n",
    "    return score\n",
    "\n",
    "# New function I added to return whether the player has a \"usable\" ace, meaning the ace can be wither 1 or 11 without going over 21\n",
    "# This is necessary information for the bot\n",
    "def has_usable_ace(hand):\n",
    "    \"\"\"Check if the hand contains a usable ace (i.e., can count as 11 without busting).\"\"\"\n",
    "    score = calculate_score(hand)\n",
    "    # A usable ace is one where the ace is counted as 11 and the total score doesn't exceed 21\n",
    "    return any(card[0] == 'ace' for card in hand) and score <= 21\n",
    "\n",
    "# Function to get the image paths for the cards\n",
    "def get_card_image(card):\n",
    "    rank, suit = card\n",
    "    return f\"cards/{suit}_{rank}.png\"\n",
    "\n",
    "# Resize card image to be smaller\n",
    "def resize_image(img_path, size=(400, 600)):  # Smaller size\n",
    "    img = Image.open(img_path)\n",
    "    img = img.resize(size)\n",
    "    return img\n",
    "\n",
    "# Initialize global state\n",
    "deck = []\n",
    "player_hand = []\n",
    "dealer_hand = []\n",
    "def reset_game():\n",
    "    global deck, player_hand, dealer_hand\n",
    "    deck = create_deck()\n",
    "    # Give two cards to both the player and the dealer at the start\n",
    "    player_hand = [deck.pop(), deck.pop()]\n",
    "    dealer_hand = [deck.pop(), deck.pop()]\n",
    "    player_images = [resize_image(get_card_image(card)) for card in player_hand]\n",
    "    dealer_images = [resize_image(get_card_image(dealer_hand[0]))]\n",
    "    result = \"Game in progress...\"\n",
    "    player_score = calculate_score(player_hand)\n",
    "    dealer_score = calculate_score(dealer_hand[:1])\n",
    "    recommendation = \"Hit\"\n",
    "    return player_images, dealer_images, result, player_score, dealer_score, recommendation"
   ]
  },
  {
   "cell_type": "code",
   "execution_count": 23,
   "metadata": {},
   "outputs": [
    {
     "name": "stdout",
     "output_type": "stream",
     "text": [
      "[('9', 'hearts'), ('queen', 'spades')]\n",
      "[('6', 'diamonds'), ('10', 'diamonds')]\n"
     ]
    }
   ],
   "source": [
    "# Dealing everyone a new hand\n",
    "reset_game()\n",
    "print(player_hand)\n",
    "print(dealer_hand)"
   ]
  },
  {
   "cell_type": "code",
   "execution_count": 24,
   "metadata": {},
   "outputs": [
    {
     "data": {
      "text/plain": [
       "array([19, 10,  0])"
      ]
     },
     "execution_count": 24,
     "metadata": {},
     "output_type": "execute_result"
    }
   ],
   "source": [
    "# The bot predicts off a \"state\" that is just a numpy array of 3 numbers\n",
    "# A state of [19, 10, 0] means the player's card value total is 19, the dealer's card value total is 10, and the player's hand does NOT include a usable ace\n",
    "# The dealer's card value total would only include the face-up card(s). There is still a face-down card that the bot/player can't see.\n",
    "def get_state(player_hand, dealer_hand):\n",
    "    player_hand_sum = calculate_score(player_hand)\n",
    "    dealer_hand_sum = calculate_score(dealer_hand[1:]) # Assumes the dealer's first card will be the face-down one, so this excludes from the sum that the bot will see\n",
    "    player_usable_ace = int(has_usable_ace(player_hand))\n",
    "    return np.array([player_hand_sum, dealer_hand_sum, player_usable_ace])\n",
    "\n",
    "get_state(player_hand, dealer_hand)"
   ]
  },
  {
   "cell_type": "code",
   "execution_count": 26,
   "metadata": {},
   "outputs": [
    {
     "name": "stdout",
     "output_type": "stream",
     "text": [
      "[[ 0.06137741 -0.7087431 ]]\n"
     ]
    },
    {
     "data": {
      "text/plain": [
       "'Stand'"
      ]
     },
     "execution_count": 26,
     "metadata": {},
     "output_type": "execute_result"
    }
   ],
   "source": [
    "# The bot makes a decision (prediction) based on the state\n",
    "# The prediction has 2 numbers: the predicted value of choosing 'stand', and the predicted value of choosing 'hit', in that order\n",
    "# [[ 0.06137741 -0.7087431 ]] would mean it thinks 'stand' is a good idea, and 'hit' is a very bad idea\n",
    "# np.argmax() extracts whichever one was higher.\n",
    "\n",
    "def bot_decision(bot, state):\n",
    "    decision = bot.predict(state[np.newaxis], verbose=False)\n",
    "    print(decision)\n",
    "    return \"Hit\" if np.argmax(decision) == 1 else \"Stand\"\n",
    "\n",
    "bot_decision(bot, get_state(player_hand, dealer_hand))"
   ]
  },
  {
   "cell_type": "code",
   "execution_count": null,
   "metadata": {},
   "outputs": [],
   "source": [
    "# The bot still loses more than it wins, but thankfully it's at least trained well enough to avoid really obvious mistakes, like hitting at 19."
   ]
  }
 ],
 "metadata": {
  "kernelspec": {
   "display_name": "ml_3_10",
   "language": "python",
   "name": "python3"
  },
  "language_info": {
   "codemirror_mode": {
    "name": "ipython",
    "version": 3
   },
   "file_extension": ".py",
   "mimetype": "text/x-python",
   "name": "python",
   "nbconvert_exporter": "python",
   "pygments_lexer": "ipython3",
   "version": "3.10.15"
  }
 },
 "nbformat": 4,
 "nbformat_minor": 2
}
